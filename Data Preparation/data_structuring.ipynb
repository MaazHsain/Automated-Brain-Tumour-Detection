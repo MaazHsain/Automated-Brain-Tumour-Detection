{
 "cells": [
  {
   "cell_type": "code",
   "execution_count": 1,
   "id": "d37e759f",
   "metadata": {},
   "outputs": [],
   "source": [
    "import os, shutil\n",
    "import random"
   ]
  },
  {
   "cell_type": "code",
   "execution_count": 2,
   "id": "5238c056",
   "metadata": {},
   "outputs": [],
   "source": [
    "original_dataset_dir_healthy = '/Users/marsc/ASUS/Desktop/FYP/Datasets/cropped/no'\n",
    "original_dataset_dir_tumor = '/Users/marsc/ASUS/Desktop/FYP/Datasets/cropped/yes'"
   ]
  },
  {
   "cell_type": "code",
   "execution_count": 3,
   "id": "8a717509",
   "metadata": {},
   "outputs": [],
   "source": [
    "base_dir = '/Users/marsc/ASUS/Desktop/FYP/Datasets/healthy_and_tumor'\n",
    "os.mkdir(base_dir)"
   ]
  },
  {
   "cell_type": "code",
   "execution_count": 4,
   "id": "4ba7cf8a",
   "metadata": {},
   "outputs": [],
   "source": [
    "train_dir = os.path.join(base_dir, 'train')\n",
    "os.mkdir(train_dir)\n",
    "\n",
    "validation_dir = os.path.join(base_dir, 'validation')\n",
    "os.mkdir(validation_dir)\n",
    "\n",
    "test_dir = os.path.join(base_dir, 'test')\n",
    "os.mkdir(test_dir)"
   ]
  },
  {
   "cell_type": "code",
   "execution_count": 5,
   "id": "4683ad44",
   "metadata": {},
   "outputs": [],
   "source": [
    "train_healthy_dir = os.path.join(train_dir, 'healthy')\n",
    "os.mkdir(train_healthy_dir)\n",
    "train_tumor_dir = os.path.join(train_dir, 'tumor')\n",
    "os.mkdir(train_tumor_dir)\n",
    "\n",
    "validation_healthy_dir = os.path.join(validation_dir, 'healthy')\n",
    "os.mkdir(validation_healthy_dir)\n",
    "validation_tumor_dir = os.path.join(validation_dir, 'tumor')\n",
    "os.mkdir(validation_tumor_dir)\n",
    "\n",
    "test_healthy_dir = os.path.join(test_dir, 'healthy')\n",
    "os.mkdir(test_healthy_dir)\n",
    "test_tumor_dir = os.path.join(test_dir, 'tumor')\n",
    "os.mkdir(test_tumor_dir)"
   ]
  },
  {
   "cell_type": "code",
   "execution_count": 6,
   "id": "c21b49aa",
   "metadata": {},
   "outputs": [],
   "source": [
    "# Function to copy images\n",
    "def copy_images(src_dir, dst_dir, image_list):\n",
    "    for fname in image_list:\n",
    "        src = os.path.join(src_dir, fname)\n",
    "        dst = os.path.join(dst_dir, fname)\n",
    "        shutil.copyfile(src, dst)"
   ]
  },
  {
   "cell_type": "code",
   "execution_count": 7,
   "id": "f8117e02",
   "metadata": {},
   "outputs": [],
   "source": [
    "# Get list of all images\n",
    "healthy_images = os.listdir(original_dataset_dir_healthy)\n",
    "tumor_images = os.listdir(original_dataset_dir_tumor)\n",
    "\n",
    "# Ensure there are enough images\n",
    "assert len(healthy_images) == 1500, \"There should be exactly 1500 healthy images.\"\n",
    "assert len(tumor_images) == 1500, \"There should be exactly 1500 tumor images.\"\n",
    "\n",
    "# Shuffle the images to ensure randomness\n",
    "random.shuffle(healthy_images)\n",
    "random.shuffle(tumor_images)\n",
    "\n",
    "# Define the split sizes\n",
    "train_size = 1050  # 70% of 1500\n",
    "validation_size = 225  # 15% of 1500\n",
    "test_size = 225  # 15% of 1500\n",
    "\n",
    "# Split the images\n",
    "train_healthy_images = healthy_images[:train_size]\n",
    "validation_healthy_images = healthy_images[train_size:train_size + validation_size]\n",
    "test_healthy_images = healthy_images[train_size + validation_size:train_size + validation_size + test_size]\n",
    "\n",
    "train_tumor_images = tumor_images[:train_size]\n",
    "validation_tumor_images = tumor_images[train_size:train_size + validation_size]\n",
    "test_tumor_images = tumor_images[train_size + validation_size:train_size + validation_size + test_size]\n",
    "\n",
    "# Copy the images to their respective directories\n",
    "copy_images(original_dataset_dir_healthy, train_healthy_dir, train_healthy_images)\n",
    "copy_images(original_dataset_dir_healthy, validation_healthy_dir, validation_healthy_images)\n",
    "copy_images(original_dataset_dir_healthy, test_healthy_dir, test_healthy_images)\n",
    "\n",
    "copy_images(original_dataset_dir_tumor, train_tumor_dir, train_tumor_images)\n",
    "copy_images(original_dataset_dir_tumor, validation_tumor_dir, validation_tumor_images)\n",
    "copy_images(original_dataset_dir_tumor, test_tumor_dir, test_tumor_images)"
   ]
  },
  {
   "cell_type": "code",
   "execution_count": 8,
   "id": "90fc59b8",
   "metadata": {},
   "outputs": [
    {
     "name": "stdout",
     "output_type": "stream",
     "text": [
      "All directories have the correct number of images.\n",
      "Images copied successfully and verified!\n"
     ]
    }
   ],
   "source": [
    "# Function to verify the number of images in each directory\n",
    "def verify_image_counts():\n",
    "    dirs = [\n",
    "        (train_healthy_dir, 1050),\n",
    "        (validation_healthy_dir, 225),\n",
    "        (test_healthy_dir, 225),\n",
    "        (train_tumor_dir, 1050),\n",
    "        (validation_tumor_dir, 225),\n",
    "        (test_tumor_dir, 225)\n",
    "    ]\n",
    "    \n",
    "    for dir_path, expected_count in dirs:\n",
    "        actual_count = len(os.listdir(dir_path))\n",
    "        assert actual_count == expected_count, f\"Directory {dir_path} has {actual_count} images; expected {expected_count}.\"\n",
    "    \n",
    "    print(\"All directories have the correct number of images.\")\n",
    "\n",
    "# Verify the image counts\n",
    "verify_image_counts()\n",
    "print(\"Images copied successfully and verified!\")"
   ]
  },
  {
   "cell_type": "code",
   "execution_count": 9,
   "id": "e09081b6",
   "metadata": {},
   "outputs": [
    {
     "name": "stdout",
     "output_type": "stream",
     "text": [
      "test\n",
      "healthy: 225 images\n",
      "tumor: 225 images\n",
      "train\n",
      "healthy: 1050 images\n",
      "tumor: 1050 images\n",
      "validation\n",
      "healthy: 225 images\n",
      "tumor: 225 images\n"
     ]
    }
   ],
   "source": [
    "# Get the list of all files in the folder\n",
    "base_dir = '/Users/marsc/ASUS/Desktop/FYP/Datasets/healthy_and_tumor'\n",
    "folder_list = os.listdir(base_dir)\n",
    "\n",
    "# Print the list of folders and the number of images in each subfolder\n",
    "for folder in folder_list:\n",
    "    print(folder)\n",
    "    subfolder_path = os.path.join(base_dir, folder)\n",
    "    if os.path.isdir(subfolder_path):\n",
    "        subfolder_list = os.listdir(subfolder_path)\n",
    "        for subfolder in subfolder_list:\n",
    "            subfolder_full_path = os.path.join(subfolder_path, subfolder)\n",
    "            if os.path.isdir(subfolder_full_path):\n",
    "                image_list = os.listdir(subfolder_full_path)\n",
    "                print(f'{subfolder}: {len(image_list)} images')"
   ]
  }
 ],
 "metadata": {
  "kernelspec": {
   "display_name": "Python 3 (ipykernel)",
   "language": "python",
   "name": "python3"
  },
  "language_info": {
   "codemirror_mode": {
    "name": "ipython",
    "version": 3
   },
   "file_extension": ".py",
   "mimetype": "text/x-python",
   "name": "python",
   "nbconvert_exporter": "python",
   "pygments_lexer": "ipython3",
   "version": "3.9.12"
  }
 },
 "nbformat": 4,
 "nbformat_minor": 5
}
